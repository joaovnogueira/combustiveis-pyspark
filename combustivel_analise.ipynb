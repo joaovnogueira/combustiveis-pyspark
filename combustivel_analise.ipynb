{
 "cells": [
  {
   "cell_type": "code",
   "execution_count": 1,
   "id": "a1149659-baa3-436f-9507-b684f32c117c",
   "metadata": {},
   "outputs": [],
   "source": [
    "from pyspark.sql import SparkSession\n",
    "from pyspark.sql import functions as F\n",
    "\n"
   ]
  },
  {
   "cell_type": "code",
   "execution_count": 2,
   "id": "c13b49a4-5538-4191-8360-4e54b38e6540",
   "metadata": {},
   "outputs": [
    {
     "name": "stderr",
     "output_type": "stream",
     "text": [
      "WARNING: Using incubator modules: jdk.incubator.vector\n",
      "Using Spark's default log4j profile: org/apache/spark/log4j2-defaults.properties\n",
      "25/09/13 14:05:08 WARN Utils: Your hostname, DESKTOP-BBCLCU0, resolves to a loopback address: 127.0.1.1; using 10.255.255.254 instead (on interface lo)\n",
      "25/09/13 14:05:08 WARN Utils: Set SPARK_LOCAL_IP if you need to bind to another address\n",
      "Using Spark's default log4j profile: org/apache/spark/log4j2-defaults.properties\n",
      "Setting default log level to \"WARN\".\n",
      "To adjust logging level use sc.setLogLevel(newLevel). For SparkR, use setLogLevel(newLevel).\n",
      "25/09/13 14:05:10 WARN NativeCodeLoader: Unable to load native-hadoop library for your platform... using builtin-java classes where applicable\n",
      "25/09/13 14:05:11 WARN Utils: Service 'SparkUI' could not bind on port 4040. Attempting port 4041.\n"
     ]
    }
   ],
   "source": [
    "spark = ( \n",
    " SparkSession\n",
    " .builder\n",
    "    .master(\"local[*]\")\n",
    " .appName('spark_dataframe_api')\n",
    " .getOrCreate()\n",
    ")\n"
   ]
  },
  {
   "cell_type": "code",
   "execution_count": 28,
   "id": "f1193555-5373-4a43-87eb-c8ff5f615180",
   "metadata": {},
   "outputs": [
    {
     "name": "stdout",
     "output_type": "stream",
     "text": [
      "root\n",
      " |-- Regiao - Sigla: string (nullable = true)\n",
      " |-- Estado - Sigla: string (nullable = true)\n",
      " |-- Municipio: string (nullable = true)\n",
      " |-- Revenda: string (nullable = true)\n",
      " |-- CNPJ da Revenda: string (nullable = true)\n",
      " |-- Nome da Rua: string (nullable = true)\n",
      " |-- Numero Rua: string (nullable = true)\n",
      " |-- Complemento: string (nullable = true)\n",
      " |-- Bairro: string (nullable = true)\n",
      " |-- Cep: string (nullable = true)\n",
      " |-- Produto: string (nullable = true)\n",
      " |-- Data da Coleta: string (nullable = true)\n",
      " |-- Valor de Venda: string (nullable = true)\n",
      " |-- Valor de Compra: string (nullable = true)\n",
      " |-- Unidade de Medida: string (nullable = true)\n",
      " |-- Bandeira: string (nullable = true)\n",
      "\n"
     ]
    }
   ],
   "source": [
    "\n",
    "df = (\n",
    "    spark\n",
    "    .read\n",
    "    .option('delimiter', ';')\n",
    "    .option('header', 'true')\n",
    "    .option('inferSchema', 'true')\n",
    "    .option('enconding', 'ISO-8859-1')\n",
    "    .csv('./dados/precos-gasolina-etanol-07.csv')\n",
    ")\n",
    "\n",
    "df.printSchema()"
   ]
  },
  {
   "cell_type": "code",
   "execution_count": 78,
   "id": "c4724076-b813-44b3-a426-5ae2eb5c1e53",
   "metadata": {},
   "outputs": [],
   "source": [
    "df_precos = (\n",
    "    df\n",
    "    .select('Estado - Sigla', 'Produto', 'Valor de Compra', 'Valor de Venda', 'Unidade de Medida', 'Regiao - Sigla')\n",
    "    .withColumn(\n",
    "        \"Valor de Venda\",\n",
    "        F.regexp_replace(F.col(\"Valor de Venda\"), \",\", \".\")\n",
    "        .cast(\"float\")\n",
    "    )\n",
    ")"
   ]
  },
  {
   "cell_type": "code",
   "execution_count": 79,
   "id": "6dc501b3-491c-4351-ac0c-bf7491fb8725",
   "metadata": {},
   "outputs": [
    {
     "name": "stdout",
     "output_type": "stream",
     "text": [
      "+--------------+------------------+---------------+--------------+-----------------+--------------+\n",
      "|Estado - Sigla|           Produto|Valor de Compra|Valor de Venda|Unidade de Medida|Regiao - Sigla|\n",
      "+--------------+------------------+---------------+--------------+-----------------+--------------+\n",
      "|            AL|          GASOLINA|           NULL|          6.15|       R$ / litro|            NE|\n",
      "|            AL|            ETANOL|           NULL|          4.79|       R$ / litro|            NE|\n",
      "|            AL|          GASOLINA|           NULL|          5.89|       R$ / litro|            NE|\n",
      "|            AL|GASOLINA ADITIVADA|           NULL|          5.99|       R$ / litro|            NE|\n",
      "|            AL|            ETANOL|           NULL|          4.98|       R$ / litro|            NE|\n",
      "+--------------+------------------+---------------+--------------+-----------------+--------------+\n",
      "only showing top 5 rows\n"
     ]
    }
   ],
   "source": [
    "df_precos.show(5)"
   ]
  },
  {
   "cell_type": "code",
   "execution_count": 80,
   "id": "f971b60d-9f23-4598-b382-727028b1c3e0",
   "metadata": {},
   "outputs": [],
   "source": [
    "### Formatando os dados"
   ]
  },
  {
   "cell_type": "code",
   "execution_count": 92,
   "id": "ff1e4794-bbcf-40a0-9c72-f4c77238ca99",
   "metadata": {},
   "outputs": [],
   "source": [
    "df_precos = (\n",
    "    df\n",
    "    .select('Estado - Sigla', 'Produto', 'Valor de Venda', 'Unidade de Medida', 'Regiao - Sigla')\n",
    "    .withColumn(\n",
    "        \"Valor de Venda\",\n",
    "        F.regexp_replace(F.col(\"Valor de Venda\"), \",\", \".\")\n",
    "        .cast(\"float\")\n",
    "    )\n",
    ")"
   ]
  },
  {
   "cell_type": "code",
   "execution_count": 93,
   "id": "117c8b39-f089-4356-97be-ed554370d280",
   "metadata": {},
   "outputs": [],
   "source": [
    "### Coferindo se o valor de compra possui dados"
   ]
  },
  {
   "cell_type": "code",
   "execution_count": 94,
   "id": "b8f42977-e75d-4735-8a73-cda0d112d49a",
   "metadata": {},
   "outputs": [
    {
     "name": "stdout",
     "output_type": "stream",
     "text": [
      "+--------------+-------+--------------+-----------------+--------------+\n",
      "|Estado - Sigla|Produto|Valor de Venda|Unidade de Medida|Regiao - Sigla|\n",
      "+--------------+-------+--------------+-----------------+--------------+\n",
      "+--------------+-------+--------------+-----------------+--------------+\n",
      "\n"
     ]
    }
   ],
   "source": [
    "(\n",
    "    df_precos\n",
    "    .where(\n",
    "        F.col('Valor de Compra').isNotNull()\n",
    "    )\n",
    "    .show()\n",
    ")"
   ]
  },
  {
   "cell_type": "code",
   "execution_count": 95,
   "id": "3418765c-4b76-4fde-a82c-0f0d4424a025",
   "metadata": {},
   "outputs": [
    {
     "name": "stdout",
     "output_type": "stream",
     "text": [
      "+--------------+------------------+--------------+-----------------+--------------+\n",
      "|Estado - Sigla|           Produto|Valor de Venda|Unidade de Medida|Regiao - Sigla|\n",
      "+--------------+------------------+--------------+-----------------+--------------+\n",
      "|            AL|          GASOLINA|          6.15|       R$ / litro|            NE|\n",
      "|            AL|            ETANOL|          4.79|       R$ / litro|            NE|\n",
      "|            AL|          GASOLINA|          5.89|       R$ / litro|            NE|\n",
      "|            AL|GASOLINA ADITIVADA|          5.99|       R$ / litro|            NE|\n",
      "|            AL|            ETANOL|          4.98|       R$ / litro|            NE|\n",
      "+--------------+------------------+--------------+-----------------+--------------+\n",
      "only showing top 5 rows\n"
     ]
    }
   ],
   "source": [
    "df_precos.show(5)"
   ]
  },
  {
   "cell_type": "code",
   "execution_count": 96,
   "id": "10afb6d1-1c77-46b0-8e03-a5b5871eaa76",
   "metadata": {},
   "outputs": [],
   "source": [
    "### Analisando a média, o menor, o maior, a mediana, o desvio padrão de valor de venda por estado, produt e unidade de medida"
   ]
  },
  {
   "cell_type": "code",
   "execution_count": 103,
   "id": "2a4a0481-b032-475d-bdaa-3c66e5007141",
   "metadata": {},
   "outputs": [],
   "source": [
    "df_precos_analise = (\n",
    "    df_precos\n",
    "    .groupBy(\n",
    "        F.col('Estado - Sigla'),\n",
    "        F.col('Regiao - Sigla'),\n",
    "        F.col('Produto'),\n",
    "        F.col('Unidade de Medida')\n",
    "    )\n",
    "    .agg(\n",
    "        F.round(F.min(\"Valor de Venda\"), 2).alias('menor_valor'),\n",
    "        F.round(F.max(\"Valor de Venda\"), 2).alias('maior_valor'),\n",
    "        F.round(F.expr(\"percentile_approx(`Valor de Venda`, 0.5)\"), 2).alias('mediana'),\n",
    "        F.round(F.avg(\"Valor de Venda\"), 2).alias('media'),\n",
    "        F.round(F.stddev(\"Valor de Venda\"), 2).alias('desvio_padrao')\n",
    "    )\n",
    "    .withColumn(\n",
    "        \"diferenca\",\n",
    "        F.round(F.col('maior_valor') -  F.col('menor_valor'),2)\n",
    "    )\n",
    "    .orderBy('diferenca', ascending=False)\n",
    ")"
   ]
  },
  {
   "cell_type": "code",
   "execution_count": 104,
   "id": "6087c3e9-eda9-48e4-96b7-96a827a17e72",
   "metadata": {},
   "outputs": [
    {
     "name": "stdout",
     "output_type": "stream",
     "text": [
      "+--------------+--------------+------------------+-----------------+-----------+-----------+-------+-----+-------------+---------+\n",
      "|Estado - Sigla|Regiao - Sigla|           Produto|Unidade de Medida|menor_valor|maior_valor|mediana|media|desvio_padrao|diferenca|\n",
      "+--------------+--------------+------------------+-----------------+-----------+-----------+-------+-----+-------------+---------+\n",
      "|            SP|            SE|GASOLINA ADITIVADA|       R$ / litro|       5.22|       9.39|   6.29| 6.35|         0.54|     4.17|\n",
      "|            SP|            SE|          GASOLINA|       R$ / litro|       4.99|       8.99|   5.99| 6.06|         0.48|      4.0|\n",
      "|            SP|            SE|            ETANOL|       R$ / litro|       3.09|       5.99|   3.96| 3.98|         0.36|      2.9|\n",
      "|            BA|            NE|GASOLINA ADITIVADA|       R$ / litro|       5.49|       7.99|   6.46|  6.4|         0.34|      2.5|\n",
      "|            RJ|            SE|GASOLINA ADITIVADA|       R$ / litro|       5.49|       7.79|   6.29| 6.32|         0.37|      2.3|\n",
      "|            RJ|            SE|          GASOLINA|       R$ / litro|       5.49|       7.79|   5.99| 6.11|         0.35|      2.3|\n",
      "|            AM|             N|          GASOLINA|       R$ / litro|       6.09|       8.39|   6.99| 7.25|         0.53|      2.3|\n",
      "|            PE|            NE|            ETANOL|       R$ / litro|        4.2|       6.49|   4.89| 4.87|         0.27|     2.29|\n",
      "|            SC|             S|            ETANOL|       R$ / litro|       4.22|       6.36|   4.69| 4.73|         0.29|     2.14|\n",
      "|            RS|             S|            ETANOL|       R$ / litro|       4.19|       6.29|   4.79| 4.86|         0.38|      2.1|\n",
      "+--------------+--------------+------------------+-----------------+-----------+-----------+-------+-----+-------------+---------+\n",
      "only showing top 10 rows\n"
     ]
    }
   ],
   "source": [
    "df_precos_analise.show(10)"
   ]
  },
  {
   "cell_type": "code",
   "execution_count": 105,
   "id": "04d1f151-5e5b-40ea-a7d8-375c26f14aaa",
   "metadata": {},
   "outputs": [],
   "source": [
    "### Analisando os estados com a maior média de preço da gasolina mais cara do país"
   ]
  },
  {
   "cell_type": "code",
   "execution_count": 111,
   "id": "b5e08db7-59c6-4fe9-b7a4-7770a2b1ef3e",
   "metadata": {},
   "outputs": [
    {
     "name": "stdout",
     "output_type": "stream",
     "text": [
      "+--------------+--------+-----+\n",
      "|Estado - Sigla| Produto|media|\n",
      "+--------------+--------+-----+\n",
      "|            AC|GASOLINA| 7.76|\n",
      "|            AM|GASOLINA| 7.25|\n",
      "|            RR|GASOLINA| 6.95|\n",
      "|            RO|GASOLINA| 6.84|\n",
      "|            SE|GASOLINA| 6.61|\n",
      "|            TO|GASOLINA| 6.47|\n",
      "|            DF|GASOLINA| 6.44|\n",
      "|            CE|GASOLINA| 6.42|\n",
      "|            PR|GASOLINA|  6.4|\n",
      "|            SC|GASOLINA| 6.38|\n",
      "|            PA|GASOLINA| 6.37|\n",
      "|            BA|GASOLINA| 6.31|\n",
      "|            AL|GASOLINA|  6.3|\n",
      "|            PE|GASOLINA| 6.29|\n",
      "|            RS|GASOLINA|  6.2|\n",
      "|            GO|GASOLINA| 6.19|\n",
      "|            RN|GASOLINA| 6.19|\n",
      "|            MS|GASOLINA| 6.15|\n",
      "|            MA|GASOLINA| 6.14|\n",
      "|            ES|GASOLINA| 6.14|\n",
      "+--------------+--------+-----+\n",
      "only showing top 20 rows\n"
     ]
    }
   ],
   "source": [
    "df_ranking_gasolina = (\n",
    "    df_precos_analise\n",
    "    .filter(F.col(\"Produto\") == \"GASOLINA\")\n",
    "    .select(\"Estado - Sigla\", \"Produto\", \"media\")\n",
    "    .orderBy(F.desc(\"media\"))\n",
    ")\n",
    "\n",
    "df_ranking_gasolina.show()\n",
    "\n"
   ]
  },
  {
   "cell_type": "code",
   "execution_count": 112,
   "id": "3de0be16-5f02-4430-95bc-b9da740eabf9",
   "metadata": {},
   "outputs": [],
   "source": [
    "### Analisando as regiões com a maior média de preço da gasolina mais cara do país"
   ]
  },
  {
   "cell_type": "code",
   "execution_count": 114,
   "id": "c7fb150c-ccee-4933-ae92-d201823bda67",
   "metadata": {},
   "outputs": [
    {
     "name": "stdout",
     "output_type": "stream",
     "text": [
      "+--------------+-----------+\n",
      "|Regiao - Sigla|preco_medio|\n",
      "+--------------+-----------+\n",
      "|             N|       6.81|\n",
      "|             S|       6.33|\n",
      "|            NE|       6.24|\n",
      "|            CO|       6.22|\n",
      "|            SE|       6.11|\n",
      "+--------------+-----------+\n",
      "\n"
     ]
    }
   ],
   "source": [
    "df_ranking_gasolina_regiao = (\n",
    "    df_precos_analise\n",
    "    .filter(F.col(\"Produto\") == \"GASOLINA\")\n",
    "    .groupBy(\"Regiao - Sigla\")\n",
    "    .agg(F.round(F.avg(\"media\"), 2).alias(\"preco_medio\"))\n",
    "    .orderBy(F.desc(\"preco_medio\"))\n",
    ")\n",
    "\n",
    "df_ranking_gasolina_regiao.show()\n"
   ]
  },
  {
   "cell_type": "code",
   "execution_count": 119,
   "id": "6007e0b5-6542-46d2-acf6-397e116bac3b",
   "metadata": {},
   "outputs": [
    {
     "name": "stdout",
     "output_type": "stream",
     "text": [
      "+--------------+------+--------+------------------+\n",
      "|Estado - Sigla|ETANOL|GASOLINA|GASOLINA ADITIVADA|\n",
      "+--------------+------+--------+------------------+\n",
      "|            SC|  4.73|    6.38|               6.5|\n",
      "|            RO|  5.04|    6.84|              6.95|\n",
      "|            PI|  4.64|     5.9|              6.12|\n",
      "|            AM|  5.48|    7.25|              7.28|\n",
      "|            RR|  5.16|    6.95|              7.06|\n",
      "|            GO|  4.25|    6.19|              6.34|\n",
      "|            TO|  4.74|    6.47|              6.54|\n",
      "|            MT|   3.9|    6.11|              6.31|\n",
      "|            SP|  3.98|    6.06|              6.35|\n",
      "|            PB|  4.52|    5.99|              6.14|\n",
      "|            ES|  4.47|    6.14|              6.27|\n",
      "|            RS|  4.86|     6.2|              6.39|\n",
      "|            MS|  4.01|    6.15|              6.34|\n",
      "|            AL|  5.09|     6.3|              6.55|\n",
      "|            MG|  4.24|    6.13|              6.35|\n",
      "|            PA|  4.81|    6.37|              6.62|\n",
      "|            BA|  4.72|    6.31|               6.4|\n",
      "|            SE|  4.94|    6.61|               6.7|\n",
      "|            PE|  4.87|    6.29|              6.46|\n",
      "|            CE|  5.27|    6.42|              6.55|\n",
      "|            RN|  5.08|    6.19|              6.23|\n",
      "|            RJ|  4.55|    6.11|              6.32|\n",
      "|            MA|  4.93|    6.14|              6.24|\n",
      "|            AC|  5.52|    7.76|              7.83|\n",
      "|            DF|  4.63|    6.44|              6.48|\n",
      "|            PR|  4.41|     6.4|              6.53|\n",
      "|            AP|  5.37|    6.06|              6.33|\n",
      "+--------------+------+--------+------------------+\n",
      "\n"
     ]
    }
   ],
   "source": [
    "pivot = (\n",
    "    df_precos_analise.groupBy(\"Estado - Sigla\")\n",
    "    .pivot(\"Produto\") \n",
    "    .agg(F.first(\"media\"))\n",
    ")\n",
    "\n",
    "pivot.show(27)\n"
   ]
  },
  {
   "cell_type": "code",
   "execution_count": null,
   "id": "83b2f31b-1093-4cd8-856b-66e21d555e07",
   "metadata": {},
   "outputs": [],
   "source": []
  }
 ],
 "metadata": {
  "kernelspec": {
   "display_name": "Python 3 (ipykernel)",
   "language": "python",
   "name": "python3"
  },
  "language_info": {
   "codemirror_mode": {
    "name": "ipython",
    "version": 3
   },
   "file_extension": ".py",
   "mimetype": "text/x-python",
   "name": "python",
   "nbconvert_exporter": "python",
   "pygments_lexer": "ipython3",
   "version": "3.13.7"
  }
 },
 "nbformat": 4,
 "nbformat_minor": 5
}
